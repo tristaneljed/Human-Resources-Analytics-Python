{
 "cells": [
  {
   "cell_type": "markdown",
   "metadata": {},
   "source": [
    "<img src=\"img\\giphy.gif\"/>\n",
    "\n",
    "# Human Resources Analytics\n",
    "***\n",
    "**“Human Resources isn’t a thing we do. It’s the thing that runs our business.”** – Steve Wynn, Wynn Las Vegas\n",
    "\n",
    "- **What is the Business Problem?**\n",
    "\n",
    "A multi-million-dollar company is about to go bankrupt and wants to know why its employees are leaving.\n",
    "\n",
    "<img src=\"img\\download.gif\"/>\n",
    "\n",
    "- **Who is the Client?**\n",
    "<img src=\"img\\ico_ceomessage.png\" length=10% width=10%/>\n",
    "\n",
    "- **What is Objective?**\n",
    "\n",
    "My goal is to understand what factors contribute most to employee turnover and create a model that can predict if a certain employee will leave the company or not, as well as offering recommendations to the company regarding their human resources decisions.\n",
    "\n",
    "- **What is the Approach?**\n",
    "\n",
    "I’ll be following the *Cross Industry Standard Process for Data Mining*, commonly known by its acronym **CRISP-DM** while implementing the popular data science model **OSEMN** (pronounced as *awesome*).\n",
    "\n",
    "1. [Data Understanding](#1.-Data-Understanding)\n",
    "\n",
    "    a. [**O**btaining Data](#1a.-Obtaining-Data)\n",
    "    \n",
    "    b. [**S**crubbing Data](#1b.-Scrubbing-Data)\n",
    "    \n",
    "    c. [**E**xploring Data](#1c.-Exploring-Data)      \n",
    "      - [Statistical Overview](#Statistical-Overview)\n",
    "      - [Correlation Matrix & Heatmap](#Correlation-Matrix-&-Heatmap)\n",
    "      - [Feature Importance](#Feature-Importance)\n",
    "          - [via Random Forest](#Feature-Importance-via-Random-Forest)\n",
    "          - [via Gradient Boosting](#Feature-Importance-via-Gradient-Boosting)\n",
    "\n",
    "2. Data Preparation\n",
    "\n",
    "    a. Feature Engineering\n",
    "    \n",
    "    b. Principle Component Analysis (PCA) & Scaling\n",
    "\n",
    "3. **M**odeling\n",
    "\n",
    "4. Evaluation\n",
    "\n",
    "    a. I**n**terpreting Data\n",
    "    \n",
    "    b. Communicating Results \n",
    "***\n",
    "- **OSEMN Model**\n",
    "<img src=\"img\\OSEMN.png\" length=70% width=70%/>\n",
    "***\n",
    "- **CRISP Diagram**\n",
    "<img src=\"img\\newcrispdiagram.gif\" length=40% width=40%/>\n",
    "\n",
    "- **Dataset**\n",
    "\n",
    "The dataset is provided by Kaggle’s <a href=\"https://www.kaggle.com/ludobenistant/hr-analytics\">Human Resources Analytics</a>. It’s important to notice that the dataset is simulated.\n",
    "***"
   ]
  },
  {
   "cell_type": "markdown",
   "metadata": {},
   "source": [
    "# 1. Data Understanding\n",
    "***\n",
    "- The data understanding phase involves taking a closer look at the data available for mining. It implies accessing the data and exploring it using tables and graphics.\n",
    "\n",
    "## 1a. Obtaining Data\n",
    "***\n",
    "- Let's import the necessary modules for data manipulation and visualization."
   ]
  },
  {
   "cell_type": "code",
   "execution_count": 1,
   "metadata": {
    "collapsed": false
   },
   "outputs": [
    {
     "data": {
      "text/html": [
       "<script>requirejs.config({paths: { 'plotly': ['https://cdn.plot.ly/plotly-latest.min']},});if(!window.Plotly) {{require(['plotly'],function(plotly) {window.Plotly=plotly;});}}</script>"
      ],
      "text/vnd.plotly.v1+html": [
       "<script>requirejs.config({paths: { 'plotly': ['https://cdn.plot.ly/plotly-latest.min']},});if(!window.Plotly) {{require(['plotly'],function(plotly) {window.Plotly=plotly;});}}</script>"
      ]
     },
     "metadata": {},
     "output_type": "display_data"
    }
   ],
   "source": [
    "import pandas as pd # data processing, CSV file I/O\n",
    "import numpy as np # linear algebra\n",
    "import matplotlib.pyplot as plt\n",
    "import matplotlib as matplot\n",
    "%matplotlib inline\n",
    "import seaborn as sns\n",
    "from mpl_toolkits.mplot3d import Axes3D\n",
    "import plotly.graph_objs as go\n",
    "import plotly.tools as tls\n",
    "import plotly.offline as py\n",
    "py.init_notebook_mode(connected=True)\n",
    "from collections import Counter"
   ]
  },
  {
   "cell_type": "markdown",
   "metadata": {},
   "source": [
    "- Now let's read the analytics csv file and store our dataset into a dataframe called **hr_df**."
   ]
  },
  {
   "cell_type": "code",
   "execution_count": 2,
   "metadata": {
    "collapsed": true
   },
   "outputs": [],
   "source": [
    "hr_df = pd.DataFrame.from_csv('data/HR_comma_sep.csv', index_col=None)"
   ]
  },
  {
   "cell_type": "markdown",
   "metadata": {},
   "source": [
    "- It’s a great practice to always get a quick overview of what we are dealing with in our dataset."
   ]
  },
  {
   "cell_type": "code",
   "execution_count": 3,
   "metadata": {
    "collapsed": false
   },
   "outputs": [
    {
     "data": {
      "text/html": [
       "<div>\n",
       "<table border=\"1\" class=\"dataframe\">\n",
       "  <thead>\n",
       "    <tr style=\"text-align: right;\">\n",
       "      <th></th>\n",
       "      <th>satisfaction_level</th>\n",
       "      <th>last_evaluation</th>\n",
       "      <th>number_project</th>\n",
       "      <th>average_montly_hours</th>\n",
       "      <th>time_spend_company</th>\n",
       "      <th>Work_accident</th>\n",
       "      <th>left</th>\n",
       "      <th>promotion_last_5years</th>\n",
       "      <th>sales</th>\n",
       "      <th>salary</th>\n",
       "    </tr>\n",
       "  </thead>\n",
       "  <tbody>\n",
       "    <tr>\n",
       "      <th>0</th>\n",
       "      <td>0.38</td>\n",
       "      <td>0.53</td>\n",
       "      <td>2</td>\n",
       "      <td>157</td>\n",
       "      <td>3</td>\n",
       "      <td>0</td>\n",
       "      <td>1</td>\n",
       "      <td>0</td>\n",
       "      <td>sales</td>\n",
       "      <td>low</td>\n",
       "    </tr>\n",
       "    <tr>\n",
       "      <th>1</th>\n",
       "      <td>0.80</td>\n",
       "      <td>0.86</td>\n",
       "      <td>5</td>\n",
       "      <td>262</td>\n",
       "      <td>6</td>\n",
       "      <td>0</td>\n",
       "      <td>1</td>\n",
       "      <td>0</td>\n",
       "      <td>sales</td>\n",
       "      <td>medium</td>\n",
       "    </tr>\n",
       "    <tr>\n",
       "      <th>2</th>\n",
       "      <td>0.11</td>\n",
       "      <td>0.88</td>\n",
       "      <td>7</td>\n",
       "      <td>272</td>\n",
       "      <td>4</td>\n",
       "      <td>0</td>\n",
       "      <td>1</td>\n",
       "      <td>0</td>\n",
       "      <td>sales</td>\n",
       "      <td>medium</td>\n",
       "    </tr>\n",
       "    <tr>\n",
       "      <th>3</th>\n",
       "      <td>0.72</td>\n",
       "      <td>0.87</td>\n",
       "      <td>5</td>\n",
       "      <td>223</td>\n",
       "      <td>5</td>\n",
       "      <td>0</td>\n",
       "      <td>1</td>\n",
       "      <td>0</td>\n",
       "      <td>sales</td>\n",
       "      <td>low</td>\n",
       "    </tr>\n",
       "    <tr>\n",
       "      <th>4</th>\n",
       "      <td>0.37</td>\n",
       "      <td>0.52</td>\n",
       "      <td>2</td>\n",
       "      <td>159</td>\n",
       "      <td>3</td>\n",
       "      <td>0</td>\n",
       "      <td>1</td>\n",
       "      <td>0</td>\n",
       "      <td>sales</td>\n",
       "      <td>low</td>\n",
       "    </tr>\n",
       "  </tbody>\n",
       "</table>\n",
       "</div>"
      ],
      "text/plain": [
       "   satisfaction_level  last_evaluation  number_project  average_montly_hours  \\\n",
       "0                0.38             0.53               2                   157   \n",
       "1                0.80             0.86               5                   262   \n",
       "2                0.11             0.88               7                   272   \n",
       "3                0.72             0.87               5                   223   \n",
       "4                0.37             0.52               2                   159   \n",
       "\n",
       "   time_spend_company  Work_accident  left  promotion_last_5years  sales  \\\n",
       "0                   3              0     1                      0  sales   \n",
       "1                   6              0     1                      0  sales   \n",
       "2                   4              0     1                      0  sales   \n",
       "3                   5              0     1                      0  sales   \n",
       "4                   3              0     1                      0  sales   \n",
       "\n",
       "   salary  \n",
       "0     low  \n",
       "1  medium  \n",
       "2  medium  \n",
       "3     low  \n",
       "4     low  "
      ]
     },
     "execution_count": 3,
     "metadata": {},
     "output_type": "execute_result"
    }
   ],
   "source": [
    "hr_df.head()"
   ]
  },
  {
   "cell_type": "markdown",
   "metadata": {
    "collapsed": true
   },
   "source": [
    "## 1b. Scrubbing Data\n",
    "***\n",
    "- Let’s check to see if there are any missing values in our dataset."
   ]
  },
  {
   "cell_type": "code",
   "execution_count": 4,
   "metadata": {
    "collapsed": false,
    "scrolled": true
   },
   "outputs": [
    {
     "data": {
      "text/plain": [
       "satisfaction_level       False\n",
       "last_evaluation          False\n",
       "number_project           False\n",
       "average_montly_hours     False\n",
       "time_spend_company       False\n",
       "Work_accident            False\n",
       "left                     False\n",
       "promotion_last_5years    False\n",
       "sales                    False\n",
       "salary                   False\n",
       "dtype: bool"
      ]
     },
     "execution_count": 4,
     "metadata": {},
     "output_type": "execute_result"
    }
   ],
   "source": [
    "hr_df.isnull().any()"
   ]
  },
  {
   "cell_type": "markdown",
   "metadata": {},
   "source": [
    "- Let's say we have more than 10 features, it would be hard to notice a *True* between too many *False*, so we run *any()* twice to run the *isnull()* check across all columns."
   ]
  },
  {
   "cell_type": "code",
   "execution_count": 5,
   "metadata": {
    "collapsed": false
   },
   "outputs": [
    {
     "data": {
      "text/plain": [
       "False"
      ]
     },
     "execution_count": 5,
     "metadata": {},
     "output_type": "execute_result"
    }
   ],
   "source": [
    "hr_df.isnull().any().any()"
   ]
  },
  {
   "cell_type": "markdown",
   "metadata": {},
   "source": [
    "- We can also use the *Missingno* package which is a very useful and convenient tool in visualising missing values in the dataset."
   ]
  },
  {
   "cell_type": "code",
   "execution_count": 6,
   "metadata": {
    "collapsed": false
   },
   "outputs": [
    {
     "data": {
      "image/png": "[encoded data removed]",
      "text/plain": [
       "<matplotlib.figure.Figure at 0x18e91b788d0>"
      ]
     },
     "metadata": {},
     "output_type": "display_data"
    }
   ],
   "source": [
    "import missingno as msno\n",
    "msno.matrix(df=hr_df, figsize=(10, 4), color=(0.42, 0.1, 0.05))"
   ]
  },
  {
   "cell_type": "markdown",
   "metadata": {},
   "source": [
    "## 1c. Exploring Data\n",
    "***\n",
    "- Statistical Overview\n",
    "- Correlation Matrix & Heatmap\n",
    "- Feature Importance\n",
    "- Distribution Plots\n",
    "- 2D EDA\n",
    "- 3D EDA\n",
    "***\n",
    "### Statistical Overview\n",
    "***"
   ]
  },
  {
   "cell_type": "code",
   "execution_count": 7,
   "metadata": {
    "collapsed": false
   },
   "outputs": [
    {
     "name": "stdout",
     "output_type": "stream",
     "text": [
      "The dataset contains 14999 rows and 10 columns\n"
     ]
    }
   ],
   "source": [
    "rows = hr_df.shape[0]\n",
    "columns = hr_df.shape[1]\n",
    "print(\"The dataset contains {0} rows and {1} columns\".format(rows, columns))"
   ]
  },
  {
   "cell_type": "markdown",
   "metadata": {},
   "source": [
    "- The dataset has about 15,000 employee observations and 10 features."
   ]
  },
  {
   "cell_type": "code",
   "execution_count": 8,
   "metadata": {
    "collapsed": false
   },
   "outputs": [
    {
     "name": "stdout",
     "output_type": "stream",
     "text": [
      "satisfaction_level       float64\n",
      "last_evaluation          float64\n",
      "number_project             int64\n",
      "average_montly_hours       int64\n",
      "time_spend_company         int64\n",
      "Work_accident              int64\n",
      "left                       int64\n",
      "promotion_last_5years      int64\n",
      "sales                     object\n",
      "salary                    object\n",
      "dtype: object\n"
     ]
    },
    {
     "data": {
      "text/plain": [
       "Counter({dtype('int64'): 6, dtype('float64'): 2, dtype('O'): 2})"
      ]
     },
     "execution_count": 8,
     "metadata": {},
     "output_type": "execute_result"
    }
   ],
   "source": [
    "# Let's check the type of our features. \n",
    "print(hr_df.dtypes)\n",
    "Counter(hr_df.dtypes.values)"
   ]
  },
  {
   "cell_type": "markdown",
   "metadata": {},
   "source": [
    "- We have 2 categorical variables, 2 continuous variables, and 6 numeric discrete variables.\n",
    "- The target variable *left* is binary, either 0 or 1."
   ]
  },
  {
   "cell_type": "code",
   "execution_count": 9,
   "metadata": {
    "collapsed": false,
    "scrolled": true
   },
   "outputs": [
    {
     "data": {
      "text/html": [
       "<div>\n",
       "<table border=\"1\" class=\"dataframe\">\n",
       "  <thead>\n",
       "    <tr style=\"text-align: right;\">\n",
       "      <th></th>\n",
       "      <th>satisfaction_level</th>\n",
       "      <th>last_evaluation</th>\n",
       "      <th>number_project</th>\n",
       "      <th>average_montly_hours</th>\n",
       "      <th>time_spend_company</th>\n",
       "      <th>Work_accident</th>\n",
       "      <th>left</th>\n",
       "      <th>promotion_last_5years</th>\n",
       "    </tr>\n",
       "  </thead>\n",
       "  <tbody>\n",
       "    <tr>\n",
       "      <th>count</th>\n",
       "      <td>14999.000000</td>\n",
       "      <td>14999.000000</td>\n",
       "      <td>14999.000000</td>\n",
       "      <td>14999.000000</td>\n",
       "      <td>14999.000000</td>\n",
       "      <td>14999.000000</td>\n",
       "      <td>14999.000000</td>\n",
       "      <td>14999.000000</td>\n",
       "    </tr>\n",
       "    <tr>\n",
       "      <th>mean</th>\n",
       "      <td>0.612834</td>\n",
       "      <td>0.716102</td>\n",
       "      <td>3.803054</td>\n",
       "      <td>201.050337</td>\n",
       "      <td>3.498233</td>\n",
       "      <td>0.144610</td>\n",
       "      <td>0.238083</td>\n",
       "      <td>0.021268</td>\n",
       "    </tr>\n",
       "    <tr>\n",
       "      <th>std</th>\n",
       "      <td>0.248631</td>\n",
       "      <td>0.171169</td>\n",
       "      <td>1.232592</td>\n",
       "      <td>49.943099</td>\n",
       "      <td>1.460136</td>\n",
       "      <td>0.351719</td>\n",
       "      <td>0.425924</td>\n",
       "      <td>0.144281</td>\n",
       "    </tr>\n",
       "    <tr>\n",
       "      <th>min</th>\n",
       "      <td>0.090000</td>\n",
       "      <td>0.360000</td>\n",
       "      <td>2.000000</td>\n",
       "      <td>96.000000</td>\n",
       "      <td>2.000000</td>\n",
       "      <td>0.000000</td>\n",
       "      <td>0.000000</td>\n",
       "      <td>0.000000</td>\n",
       "    </tr>\n",
       "    <tr>\n",
       "      <th>25%</th>\n",
       "      <td>0.440000</td>\n",
       "      <td>0.560000</td>\n",
       "      <td>3.000000</td>\n",
       "      <td>156.000000</td>\n",
       "      <td>3.000000</td>\n",
       "      <td>0.000000</td>\n",
       "      <td>0.000000</td>\n",
       "      <td>0.000000</td>\n",
       "    </tr>\n",
       "    <tr>\n",
       "      <th>50%</th>\n",
       "      <td>0.640000</td>\n",
       "      <td>0.720000</td>\n",
       "      <td>4.000000</td>\n",
       "      <td>200.000000</td>\n",
       "      <td>3.000000</td>\n",
       "      <td>0.000000</td>\n",
       "      <td>0.000000</td>\n",
       "      <td>0.000000</td>\n",
       "    </tr>\n",
       "    <tr>\n",
       "      <th>75%</th>\n",
       "      <td>0.820000</td>\n",
       "      <td>0.870000</td>\n",
       "      <td>5.000000</td>\n",
       "      <td>245.000000</td>\n",
       "      <td>4.000000</td>\n",
       "      <td>0.000000</td>\n",
       "      <td>0.000000</td>\n",
       "      <td>0.000000</td>\n",
       "    </tr>\n",
       "    <tr>\n",
       "      <th>max</th>\n",
       "      <td>1.000000</td>\n",
       "      <td>1.000000</td>\n",
       "      <td>7.000000</td>\n",
       "      <td>310.000000</td>\n",
       "      <td>10.000000</td>\n",
       "      <td>1.000000</td>\n",
       "      <td>1.000000</td>\n",
       "      <td>1.000000</td>\n",
       "    </tr>\n",
       "  </tbody>\n",
       "</table>\n",
       "</div>"
      ],
      "text/plain": [
       "       satisfaction_level  last_evaluation  number_project  \\\n",
       "count        14999.000000     14999.000000    14999.000000   \n",
       "mean             0.612834         0.716102        3.803054   \n",
       "std              0.248631         0.171169        1.232592   \n",
       "min              0.090000         0.360000        2.000000   \n",
       "25%              0.440000         0.560000        3.000000   \n",
       "50%              0.640000         0.720000        4.000000   \n",
       "75%              0.820000         0.870000        5.000000   \n",
       "max              1.000000         1.000000        7.000000   \n",
       "\n",
       "       average_montly_hours  time_spend_company  Work_accident          left  \\\n",
       "count          14999.000000        14999.000000   14999.000000  14999.000000   \n",
       "mean             201.050337            3.498233       0.144610      0.238083   \n",
       "std               49.943099            1.460136       0.351719      0.425924   \n",
       "min               96.000000            2.000000       0.000000      0.000000   \n",
       "25%              156.000000            3.000000       0.000000      0.000000   \n",
       "50%              200.000000            3.000000       0.000000      0.000000   \n",
       "75%              245.000000            4.000000       0.000000      0.000000   \n",
       "max              310.000000           10.000000       1.000000      1.000000   \n",
       "\n",
       "       promotion_last_5years  \n",
       "count           14999.000000  \n",
       "mean                0.021268  \n",
       "std                 0.144281  \n",
       "min                 0.000000  \n",
       "25%                 0.000000  \n",
       "50%                 0.000000  \n",
       "75%                 0.000000  \n",
       "max                 1.000000  "
      ]
     },
     "execution_count": 9,
     "metadata": {},
     "output_type": "execute_result"
    }
   ],
   "source": [
    "# Let's display the statistical overview of the employees\n",
    "hr_df.describe()"
   ]
  },
  {
   "cell_type": "markdown",
   "metadata": {},
   "source": [
    "***\n",
    "- **Target variable inspection**"
   ]
  },
  {
   "cell_type": "code",
   "execution_count": 10,
   "metadata": {
    "collapsed": false,
    "scrolled": true
   },
   "outputs": [
    {
     "data": {
      "application/vnd.plotly.v1+json": {
       "data": [
        {
         "text": "Distribution of target variable",
         "type": "bar",
         "x": [
          0,
          1
         ],
         "y": [
          11428,
          3571
         ]
        }
       ],
       "layout": {
        "title": "Target variable distribution"
       }
      },
      "text/html": [
       "<div id=\"1a4c709e-9fe8-4390-8098-4bd7eaa43ff7\" style=\"height: 525px; width: 100%;\" class=\"plotly-graph-div\"></div><script type=\"text/javascript\">require([\"plotly\"], function(Plotly) { window.PLOTLYENV=window.PLOTLYENV || {};window.PLOTLYENV.BASE_URL=\"https://plot.ly\";Plotly.newPlot(\"1a4c709e-9fe8-4390-8098-4bd7eaa43ff7\", [{\"type\": \"bar\", \"x\": [0, 1], \"y\": [11428, 3571], \"text\": \"Distribution of target variable\"}], {\"title\": \"Target variable distribution\"}, {\"showLink\": true, \"linkText\": \"Export to plot.ly\"})});</script>"
      ],
      "text/vnd.plotly.v1+html": [
       "<div id=\"1a4c709e-9fe8-4390-8098-4bd7eaa43ff7\" style=\"height: 525px; width: 100%;\" class=\"plotly-graph-div\"></div><script type=\"text/javascript\">require([\"plotly\"], function(Plotly) { window.PLOTLYENV=window.PLOTLYENV || {};window.PLOTLYENV.BASE_URL=\"https://plot.ly\";Plotly.newPlot(\"1a4c709e-9fe8-4390-8098-4bd7eaa43ff7\", [{\"type\": \"bar\", \"x\": [0, 1], \"y\": [11428, 3571], \"text\": \"Distribution of target variable\"}], {\"title\": \"Target variable distribution\"}, {\"showLink\": true, \"linkText\": \"Export to plot.ly\"})});</script>"
      ]
     },
     "metadata": {},
     "output_type": "display_data"
    }
   ],
   "source": [
    "data = [go.Bar(\n",
    "            x = hr_df.left.value_counts().index.values,\n",
    "            y = hr_df.left.value_counts().values,\n",
    "            text='Distribution of target variable'\n",
    "    )]\n",
    "\n",
    "layout = go.Layout(\n",
    "    title='Target variable distribution'\n",
    ")\n",
    "\n",
    "fig = go.Figure(data=data, layout=layout)\n",
    "\n",
    "py.iplot(fig, filename='basic-bar')"
   ]
  },
  {
   "cell_type": "code",
   "execution_count": 11,
   "metadata": {
    "collapsed": false
   },
   "outputs": [
    {
     "name": "stdout",
     "output_type": "stream",
     "text": [
      "- The company has a turnover rate of about 24%.\n",
      "- The turnover ratio is 3.\n"
     ]
    }
   ],
   "source": [
    "turnover_rate = hr_df.left.value_counts() / hr_df.shape[0]\n",
    "turnover_ratio = int(turnover_rate[0]/turnover_rate[1])\n",
    "print (\"- The company has a turnover rate of about {:.0%}.\".format(turnover_rate[1]))\n",
    "print (\"- The turnover ratio is {}.\".format(turnover_ratio))"
   ]
  },
  {
   "cell_type": "markdown",
   "metadata": {},
   "source": [
    "- It's essential to note that when performing cross-validation, we have to maintain this turnover ratio."
   ]
  },
  {
   "cell_type": "code",
   "execution_count": 12,
   "metadata": {
    "collapsed": false
   },
   "outputs": [
    {
     "data": {
      "text/html": [
       "<div>\n",
       "<table border=\"1\" class=\"dataframe\">\n",
       "  <thead>\n",
       "    <tr style=\"text-align: right;\">\n",
       "      <th></th>\n",
       "      <th>satisfaction_level</th>\n",
       "      <th>last_evaluation</th>\n",
       "      <th>number_project</th>\n",
       "      <th>average_montly_hours</th>\n",
       "      <th>time_spend_company</th>\n",
       "      <th>Work_accident</th>\n",
       "      <th>promotion_last_5years</th>\n",
       "    </tr>\n",
       "    <tr>\n",
       "      <th>left</th>\n",
       "      <th></th>\n",
       "      <th></th>\n",
       "      <th></th>\n",
       "      <th></th>\n",
       "      <th></th>\n",
       "      <th></th>\n",
       "      <th></th>\n",
       "    </tr>\n",
       "  </thead>\n",
       "  <tbody>\n",
       "    <tr>\n",
       "      <th>0</th>\n",
       "      <td>0.666810</td>\n",
       "      <td>0.715473</td>\n",
       "      <td>3.786664</td>\n",
       "      <td>199.060203</td>\n",
       "      <td>3.380032</td>\n",
       "      <td>0.175009</td>\n",
       "      <td>0.026251</td>\n",
       "    </tr>\n",
       "    <tr>\n",
       "      <th>1</th>\n",
       "      <td>0.440098</td>\n",
       "      <td>0.718113</td>\n",
       "      <td>3.855503</td>\n",
       "      <td>207.419210</td>\n",
       "      <td>3.876505</td>\n",
       "      <td>0.047326</td>\n",
       "      <td>0.005321</td>\n",
       "    </tr>\n",
       "  </tbody>\n",
       "</table>\n",
       "</div>"
      ],
      "text/plain": [
       "      satisfaction_level  last_evaluation  number_project  \\\n",
       "left                                                        \n",
       "0               0.666810         0.715473        3.786664   \n",
       "1               0.440098         0.718113        3.855503   \n",
       "\n",
       "      average_montly_hours  time_spend_company  Work_accident  \\\n",
       "left                                                            \n",
       "0               199.060203            3.380032       0.175009   \n",
       "1               207.419210            3.876505       0.047326   \n",
       "\n",
       "      promotion_last_5years  \n",
       "left                         \n",
       "0                  0.026251  \n",
       "1                  0.005321  "
      ]
     },
     "execution_count": 12,
     "metadata": {},
     "output_type": "execute_result"
    }
   ],
   "source": [
    "# Overview of summary (Turnover V.S. Non-turnover)\n",
    "turnover_Summary = hr_df.groupby('left')\n",
    "turnover_Summary.mean()"
   ]
  },
  {
   "cell_type": "markdown",
   "metadata": {},
   "source": [
    "### Correlation Matrix & Heatmap\n",
    "\n",
    "- Correlation Matrix"
   ]
  },
  {
   "cell_type": "code",
   "execution_count": 13,
   "metadata": {
    "collapsed": false
   },
   "outputs": [
    {
     "data": {
      "text/html": [
       "<div>\n",
       "<table border=\"1\" class=\"dataframe\">\n",
       "  <thead>\n",
       "    <tr style=\"text-align: right;\">\n",
       "      <th></th>\n",
       "      <th>satisfaction_level</th>\n",
       "      <th>last_evaluation</th>\n",
       "      <th>number_project</th>\n",
       "      <th>average_montly_hours</th>\n",
       "      <th>time_spend_company</th>\n",
       "      <th>Work_accident</th>\n",
       "      <th>left</th>\n",
       "      <th>promotion_last_5years</th>\n",
       "    </tr>\n",
       "  </thead>\n",
       "  <tbody>\n",
       "    <tr>\n",
       "      <th>satisfaction_level</th>\n",
       "      <td>1.000000</td>\n",
       "      <td>0.105021</td>\n",
       "      <td>-0.142970</td>\n",
       "      <td>-0.020048</td>\n",
       "      <td>-0.100866</td>\n",
       "      <td>0.058697</td>\n",
       "      <td>-0.388375</td>\n",
       "      <td>0.025605</td>\n",
       "    </tr>\n",
       "    <tr>\n",
       "      <th>last_evaluation</th>\n",
       "      <td>0.105021</td>\n",
       "      <td>1.000000</td>\n",
       "      <td>0.349333</td>\n",
       "      <td>0.339742</td>\n",
       "      <td>0.131591</td>\n",
       "      <td>-0.007104</td>\n",
       "      <td>0.006567</td>\n",
       "      <td>-0.008684</td>\n",
       "    </tr>\n",
       "    <tr>\n",
       "      <th>number_project</th>\n",
       "      <td>-0.142970</td>\n",
       "      <td>0.349333</td>\n",
       "      <td>1.000000</td>\n",
       "      <td>0.417211</td>\n",
       "      <td>0.196786</td>\n",
       "      <td>-0.004741</td>\n",
       "      <td>0.023787</td>\n",
       "      <td>-0.006064</td>\n",
       "    </tr>\n",
       "    <tr>\n",
       "      <th>average_montly_hours</th>\n",
       "      <td>-0.020048</td>\n",
       "      <td>0.339742</td>\n",
       "      <td>0.417211</td>\n",
       "      <td>1.000000</td>\n",
       "      <td>0.127755</td>\n",
       "      <td>-0.010143</td>\n",
       "      <td>0.071287</td>\n",
       "      <td>-0.003544</td>\n",
       "    </tr>\n",
       "    <tr>\n",
       "      <th>time_spend_company</th>\n",
       "      <td>-0.100866</td>\n",
       "      <td>0.131591</td>\n",
       "      <td>0.196786</td>\n",
       "      <td>0.127755</td>\n",
       "      <td>1.000000</td>\n",
       "      <td>0.002120</td>\n",
       "      <td>0.144822</td>\n",
       "      <td>0.067433</td>\n",
       "    </tr>\n",
       "    <tr>\n",
       "      <th>Work_accident</th>\n",
       "      <td>0.058697</td>\n",
       "      <td>-0.007104</td>\n",
       "      <td>-0.004741</td>\n",
       "      <td>-0.010143</td>\n",
       "      <td>0.002120</td>\n",
       "      <td>1.000000</td>\n",
       "      <td>-0.154622</td>\n",
       "      <td>0.039245</td>\n",
       "    </tr>\n",
       "    <tr>\n",
       "      <th>left</th>\n",
       "      <td>-0.388375</td>\n",
       "      <td>0.006567</td>\n",
       "      <td>0.023787</td>\n",
       "      <td>0.071287</td>\n",
       "      <td>0.144822</td>\n",
       "      <td>-0.154622</td>\n",
       "      <td>1.000000</td>\n",
       "      <td>-0.061788</td>\n",
       "    </tr>\n",
       "    <tr>\n",
       "      <th>promotion_last_5years</th>\n",
       "      <td>0.025605</td>\n",
       "      <td>-0.008684</td>\n",
       "      <td>-0.006064</td>\n",
       "      <td>-0.003544</td>\n",
       "      <td>0.067433</td>\n",
       "      <td>0.039245</td>\n",
       "      <td>-0.061788</td>\n",
       "      <td>1.000000</td>\n",
       "    </tr>\n",
       "  </tbody>\n",
       "</table>\n",
       "</div>"
      ],
      "text/plain": [
       "                       satisfaction_level  last_evaluation  number_project  \\\n",
       "satisfaction_level               1.000000         0.105021       -0.142970   \n",
       "last_evaluation                  0.105021         1.000000        0.349333   \n",
       "number_project                  -0.142970         0.349333        1.000000   \n",
       "average_montly_hours            -0.020048         0.339742        0.417211   \n",
       "time_spend_company              -0.100866         0.131591        0.196786   \n",
       "Work_accident                    0.058697        -0.007104       -0.004741   \n",
       "left                            -0.388375         0.006567        0.023787   \n",
       "promotion_last_5years            0.025605        -0.008684       -0.006064   \n",
       "\n",
       "                       average_montly_hours  time_spend_company  \\\n",
       "satisfaction_level                -0.020048           -0.100866   \n",
       "last_evaluation                    0.339742            0.131591   \n",
       "number_project                     0.417211            0.196786   \n",
       "average_montly_hours               1.000000            0.127755   \n",
       "time_spend_company                 0.127755            1.000000   \n",
       "Work_accident                     -0.010143            0.002120   \n",
       "left                               0.071287            0.144822   \n",
       "promotion_last_5years             -0.003544            0.067433   \n",
       "\n",
       "                       Work_accident      left  promotion_last_5years  \n",
       "satisfaction_level          0.058697 -0.388375               0.025605  \n",
       "last_evaluation            -0.007104  0.006567              -0.008684  \n",
       "number_project             -0.004741  0.023787              -0.006064  \n",
       "average_montly_hours       -0.010143  0.071287              -0.003544  \n",
       "time_spend_company          0.002120  0.144822               0.067433  \n",
       "Work_accident               1.000000 -0.154622               0.039245  \n",
       "left                       -0.154622  1.000000              -0.061788  \n",
       "promotion_last_5years       0.039245 -0.061788               1.000000  "
      ]
     },
     "execution_count": 13,
     "metadata": {},
     "output_type": "execute_result"
    }
   ],
   "source": [
    "corr = hr_df.corr()\n",
    "corr"
   ]
  },
  {
   "cell_type": "markdown",
   "metadata": {},
   "source": [
    "- Heatmap"
   ]
  },
  {
   "cell_type": "markdown",
   "metadata": {},
   "source": [
    "- [color example code: colormaps_reference.py](https://matplotlib.org/examples/color/colormaps_reference.html)"
   ]
  },
  {
   "cell_type": "code",
   "execution_count": 14,
   "metadata": {
    "collapsed": false
   },
   "outputs": [
    {
     "data": {
      "text/plain": [
       "<matplotlib.axes._subplots.AxesSubplot at 0x18e91c982e8>"
      ]
     },
     "execution_count": 14,
     "metadata": {},
     "output_type": "execute_result"
    },
    {
     "data": {
      "image/png": "[encoded data removed]",
      "text/plain": [
       "<matplotlib.figure.Figure at 0x18e93a03160>"
      ]
     },
     "metadata": {},
     "output_type": "display_data"
    }
   ],
   "source": [
    "colormap = plt.cm.seismic\n",
    "plt.figure(figsize=(12,8))\n",
    "plt.title('Heatmap of Correlation Matrix', y=1.05, size=15)\n",
    "sns.heatmap(corr,linewidths=0.1,vmax=1.0, square=True, cmap=colormap, linecolor='white', annot=True)"
   ]
  },
  {
   "cell_type": "markdown",
   "metadata": {},
   "source": [
    "###  Feature Importance\n",
    "***\n",
    "\n",
    "#### Feature Importance via Random Forest"
   ]
  },
  {
   "cell_type": "code",
   "execution_count": 15,
   "metadata": {
    "collapsed": false
   },
   "outputs": [
    {
     "name": "stdout",
     "output_type": "stream",
     "text": [
      "----- Training Done -----\n"
     ]
    }
   ],
   "source": [
    "from sklearn.ensemble import RandomForestClassifier\n",
    "\n",
    "# Create dummy variables for the 'sales' and 'salary' features, since they are categorical \n",
    "sales = pd.get_dummies(data=hr_df.sales,drop_first=True,prefix='dep') #drop first column to avoid dummy trap\n",
    "salary = pd.get_dummies(data=hr_df.salary,drop_first=True,prefix='sal')\n",
    "rf_data = hr_df\n",
    "rf_data.drop(['sales','salary'],axis=1,inplace=True)\n",
    "rf_data = pd.concat([rf_data,sales,salary],axis=1)\n",
    "\n",
    "rf = RandomForestClassifier(n_estimators=200, max_depth=8, min_samples_leaf=4, max_features=0.2, n_jobs=-1, random_state=0)\n",
    "rf.fit(rf_data.drop(['left'],axis=1), hr_df.left)\n",
    "features = rf_data.drop(['left'],axis=1).columns.values\n",
    "print(\"----- Training Done -----\")"
   ]
  },
  {
   "cell_type": "code",
   "execution_count": 16,
   "metadata": {
    "collapsed": false
   },
   "outputs": [
    {
     "data": {
      "application/vnd.plotly.v1+json": {
       "data": [
        {
         "marker": {
          "color": [
           0.3294821297464995,
           0.10922279428376108,
           0.20854313700614255,
           0.14072121324761983,
           0.18024829723566285,
           0.012535180044764043,
           0.001796722035095069,
           0.0009785013155153702,
           0.0004038505187211837,
           0.0005650496452553586,
           0.0009653279377517999,
           0.0002097268497297606,
           0.0004777523096136432,
           0.0007537075710644296,
           0.0006108453365544615,
           0.0009499432630163102,
           0.008923392663121456,
           0.0026124289901111415
          ],
          "colorscale": "Portland",
          "showscale": true,
          "size": 13,
          "sizemode": "diameter",
          "sizeref": 1
         },
         "mode": "markers",
         "text": [
          "satisfaction_level",
          "last_evaluation",
          "number_project",
          "average_montly_hours",
          "time_spend_company",
          "Work_accident",
          "promotion_last_5years",
          "dep_RandD",
          "dep_accounting",
          "dep_hr",
          "dep_management",
          "dep_marketing",
          "dep_product_mng",
          "dep_sales",
          "dep_support",
          "dep_technical",
          "sal_low",
          "sal_medium"
         ],
         "type": "scatter",
         "x": [
          "satisfaction_level",
          "last_evaluation",
          "number_project",
          "average_montly_hours",
          "time_spend_company",
          "Work_accident",
          "promotion_last_5years",
          "dep_RandD",
          "dep_accounting",
          "dep_hr",
          "dep_management",
          "dep_marketing",
          "dep_product_mng",
          "dep_sales",
          "dep_support",
          "dep_technical",
          "sal_low",
          "sal_medium"
         ],
         "y": [
          0.3294821297464995,
          0.10922279428376108,
          0.20854313700614255,
          0.14072121324761983,
          0.18024829723566285,
          0.012535180044764043,
          0.001796722035095069,
          0.0009785013155153702,
          0.0004038505187211837,
          0.0005650496452553586,
          0.0009653279377517999,
          0.0002097268497297606,
          0.0004777523096136432,
          0.0007537075710644296,
          0.0006108453365544615,
          0.0009499432630163102,
          0.008923392663121456,
          0.0026124289901111415
         ]
        }
       ],
       "layout": {
        "autosize": true,
        "hovermode": "closest",
        "showlegend": false,
        "title": "Random Forest Feature Importance",
        "xaxis": {
         "showgrid": false,
         "showline": false,
         "ticklen": 5,
         "zeroline": false
        },
        "yaxis": {
         "gridwidth": 2,
         "showgrid": false,
         "ticklen": 5,
         "title": "Feature Importance",
         "zeroline": false
        }
       }
      },
      "text/html": [
       "<div id=\"5889633c-22dc-49f0-a69d-da5408bfd2d4\" style=\"height: 525px; width: 100%;\" class=\"plotly-graph-div\"></div><script type=\"text/javascript\">require([\"plotly\"], function(Plotly) { window.PLOTLYENV=window.PLOTLYENV || {};window.PLOTLYENV.BASE_URL=\"https://plot.ly\";Plotly.newPlot(\"5889633c-22dc-49f0-a69d-da5408bfd2d4\", [{\"type\": \"scatter\", \"y\": [0.3294821297464995, 0.10922279428376108, 0.20854313700614255, 0.14072121324761983, 0.18024829723566285, 0.012535180044764043, 0.001796722035095069, 0.0009785013155153702, 0.0004038505187211837, 0.0005650496452553586, 0.0009653279377517999, 0.0002097268497297606, 0.0004777523096136432, 0.0007537075710644296, 0.0006108453365544615, 0.0009499432630163102, 0.008923392663121456, 0.0026124289901111415], \"x\": [\"satisfaction_level\", \"last_evaluation\", \"number_project\", \"average_montly_hours\", \"time_spend_company\", \"Work_accident\", \"promotion_last_5years\", \"dep_RandD\", \"dep_accounting\", \"dep_hr\", \"dep_management\", \"dep_marketing\", \"dep_product_mng\", \"dep_sales\", \"dep_support\", \"dep_technical\", \"sal_low\", \"sal_medium\"], \"mode\": \"markers\", \"marker\": {\"sizemode\": \"diameter\", \"sizeref\": 1, \"size\": 13, \"color\": [0.3294821297464995, 0.10922279428376108, 0.20854313700614255, 0.14072121324761983, 0.18024829723566285, 0.012535180044764043, 0.001796722035095069, 0.0009785013155153702, 0.0004038505187211837, 0.0005650496452553586, 0.0009653279377517999, 0.0002097268497297606, 0.0004777523096136432, 0.0007537075710644296, 0.0006108453365544615, 0.0009499432630163102, 0.008923392663121456, 0.0026124289901111415], \"colorscale\": \"Portland\", \"showscale\": true}, \"text\": [\"satisfaction_level\", \"last_evaluation\", \"number_project\", \"average_montly_hours\", \"time_spend_company\", \"Work_accident\", \"promotion_last_5years\", \"dep_RandD\", \"dep_accounting\", \"dep_hr\", \"dep_management\", \"dep_marketing\", \"dep_product_mng\", \"dep_sales\", \"dep_support\", \"dep_technical\", \"sal_low\", \"sal_medium\"]}], {\"autosize\": true, \"title\": \"Random Forest Feature Importance\", \"hovermode\": \"closest\", \"xaxis\": {\"ticklen\": 5, \"showgrid\": false, \"zeroline\": false, \"showline\": false}, \"yaxis\": {\"title\": \"Feature Importance\", \"showgrid\": false, \"zeroline\": false, \"ticklen\": 5, \"gridwidth\": 2}, \"showlegend\": false}, {\"showLink\": true, \"linkText\": \"Export to plot.ly\"})});</script>"
      ],
      "text/vnd.plotly.v1+html": [
       "<div id=\"5889633c-22dc-49f0-a69d-da5408bfd2d4\" style=\"height: 525px; width: 100%;\" class=\"plotly-graph-div\"></div><script type=\"text/javascript\">require([\"plotly\"], function(Plotly) { window.PLOTLYENV=window.PLOTLYENV || {};window.PLOTLYENV.BASE_URL=\"https://plot.ly\";Plotly.newPlot(\"5889633c-22dc-49f0-a69d-da5408bfd2d4\", [{\"type\": \"scatter\", \"y\": [0.3294821297464995, 0.10922279428376108, 0.20854313700614255, 0.14072121324761983, 0.18024829723566285, 0.012535180044764043, 0.001796722035095069, 0.0009785013155153702, 0.0004038505187211837, 0.0005650496452553586, 0.0009653279377517999, 0.0002097268497297606, 0.0004777523096136432, 0.0007537075710644296, 0.0006108453365544615, 0.0009499432630163102, 0.008923392663121456, 0.0026124289901111415], \"x\": [\"satisfaction_level\", \"last_evaluation\", \"number_project\", \"average_montly_hours\", \"time_spend_company\", \"Work_accident\", \"promotion_last_5years\", \"dep_RandD\", \"dep_accounting\", \"dep_hr\", \"dep_management\", \"dep_marketing\", \"dep_product_mng\", \"dep_sales\", \"dep_support\", \"dep_technical\", \"sal_low\", \"sal_medium\"], \"mode\": \"markers\", \"marker\": {\"sizemode\": \"diameter\", \"sizeref\": 1, \"size\": 13, \"color\": [0.3294821297464995, 0.10922279428376108, 0.20854313700614255, 0.14072121324761983, 0.18024829723566285, 0.012535180044764043, 0.001796722035095069, 0.0009785013155153702, 0.0004038505187211837, 0.0005650496452553586, 0.0009653279377517999, 0.0002097268497297606, 0.0004777523096136432, 0.0007537075710644296, 0.0006108453365544615, 0.0009499432630163102, 0.008923392663121456, 0.0026124289901111415], \"colorscale\": \"Portland\", \"showscale\": true}, \"text\": [\"satisfaction_level\", \"last_evaluation\", \"number_project\", \"average_montly_hours\", \"time_spend_company\", \"Work_accident\", \"promotion_last_5years\", \"dep_RandD\", \"dep_accounting\", \"dep_hr\", \"dep_management\", \"dep_marketing\", \"dep_product_mng\", \"dep_sales\", \"dep_support\", \"dep_technical\", \"sal_low\", \"sal_medium\"]}], {\"autosize\": true, \"title\": \"Random Forest Feature Importance\", \"hovermode\": \"closest\", \"xaxis\": {\"ticklen\": 5, \"showgrid\": false, \"zeroline\": false, \"showline\": false}, \"yaxis\": {\"title\": \"Feature Importance\", \"showgrid\": false, \"zeroline\": false, \"ticklen\": 5, \"gridwidth\": 2}, \"showlegend\": false}, {\"showLink\": true, \"linkText\": \"Export to plot.ly\"})});</script>"
      ]
     },
     "metadata": {},
     "output_type": "display_data"
    }
   ],
   "source": [
    "# Scatter plot \n",
    "trace = go.Scatter(\n",
    "    y = rf.feature_importances_,\n",
    "    x = features,\n",
    "    mode='markers',\n",
    "    marker=dict(\n",
    "        sizemode = 'diameter',\n",
    "        sizeref = 1,\n",
    "        size = 13,\n",
    "        color = rf.feature_importances_,\n",
    "        colorscale='Portland',\n",
    "        showscale=True\n",
    "    ),\n",
    "    text = features\n",
    ")\n",
    "data = [trace]\n",
    "\n",
    "layout= go.Layout(\n",
    "    autosize= True,\n",
    "    title= 'Random Forest Feature Importance',\n",
    "    hovermode= 'closest',\n",
    "     xaxis= dict(\n",
    "         ticklen= 5,\n",
    "         showgrid=False,\n",
    "        zeroline=False,\n",
    "        showline=False\n",
    "     ),\n",
    "    yaxis=dict(\n",
    "        title= 'Feature Importance',\n",
    "        showgrid=False,\n",
    "        zeroline=False,\n",
    "        ticklen= 5,\n",
    "        gridwidth= 2\n",
    "    ),\n",
    "    showlegend= False\n",
    ")\n",
    "fig = go.Figure(data=data, layout=layout)\n",
    "py.iplot(fig,filename='scatter2010')"
   ]
  },
  {
   "cell_type": "code",
   "execution_count": 17,
   "metadata": {
    "collapsed": false
   },
   "outputs": [
    {
     "data": {
      "application/vnd.plotly.v1+json": {
       "data": [
        {
         "marker": {
          "color": [
           0.0002097268497297606,
           0.0004038505187211837,
           0.0004777523096136432,
           0.0005650496452553586,
           0.0006108453365544615,
           0.0007537075710644296,
           0.0009499432630163102,
           0.0009653279377517999,
           0.0009785013155153702,
           0.001796722035095069,
           0.0026124289901111415,
           0.008923392663121456,
           0.012535180044764043,
           0.10922279428376108,
           0.14072121324761983,
           0.18024829723566285,
           0.20854313700614255,
           0.3294821297464995
          ],
          "colorscale": "Viridis",
          "reversescale": true
         },
         "name": "Random Forest Feature importance",
         "orientation": "h",
         "type": "bar",
         "x": [
          0.0002097268497297606,
          0.0004038505187211837,
          0.0004777523096136432,
          0.0005650496452553586,
          0.0006108453365544615,
          0.0007537075710644296,
          0.0009499432630163102,
          0.0009653279377517999,
          0.0009785013155153702,
          0.001796722035095069,
          0.0026124289901111415,
          0.008923392663121456,
          0.012535180044764043,
          0.10922279428376108,
          0.14072121324761983,
          0.18024829723566285,
          0.20854313700614255,
          0.3294821297464995
         ],
         "y": [
          "dep_marketing",
          "dep_accounting",
          "dep_product_mng",
          "dep_hr",
          "dep_support",
          "dep_sales",
          "dep_technical",
          "dep_management",
          "dep_RandD",
          "promotion_last_5years",
          "sal_medium",
          "sal_low",
          "Work_accident",
          "last_evaluation",
          "average_montly_hours",
          "time_spend_company",
          "number_project",
          "satisfaction_level"
         ]
        }
       ],
       "layout": {
        "height": 500,
        "title": "Barplot of Feature importances",
        "width": 500,
        "yaxis": {
         "showgrid": false,
         "showline": false,
         "showticklabels": true
        }
       }
      },
      "text/html": [
       "<div id=\"d7e766bc-b37a-44c0-bc00-b5a7fa2646ab\" style=\"height: 500px; width: 500px;\" class=\"plotly-graph-div\"></div><script type=\"text/javascript\">require([\"plotly\"], function(Plotly) { window.PLOTLYENV=window.PLOTLYENV || {};window.PLOTLYENV.BASE_URL=\"https://plot.ly\";Plotly.newPlot(\"d7e766bc-b37a-44c0-bc00-b5a7fa2646ab\", [{\"type\": \"bar\", \"x\": [0.0002097268497297606, 0.0004038505187211837, 0.0004777523096136432, 0.0005650496452553586, 0.0006108453365544615, 0.0007537075710644296, 0.0009499432630163102, 0.0009653279377517999, 0.0009785013155153702, 0.001796722035095069, 0.0026124289901111415, 0.008923392663121456, 0.012535180044764043, 0.10922279428376108, 0.14072121324761983, 0.18024829723566285, 0.20854313700614255, 0.3294821297464995], \"y\": [\"dep_marketing\", \"dep_accounting\", \"dep_product_mng\", \"dep_hr\", \"dep_support\", \"dep_sales\", \"dep_technical\", \"dep_management\", \"dep_RandD\", \"promotion_last_5years\", \"sal_medium\", \"sal_low\", \"Work_accident\", \"last_evaluation\", \"average_montly_hours\", \"time_spend_company\", \"number_project\", \"satisfaction_level\"], \"marker\": {\"color\": [0.0002097268497297606, 0.0004038505187211837, 0.0004777523096136432, 0.0005650496452553586, 0.0006108453365544615, 0.0007537075710644296, 0.0009499432630163102, 0.0009653279377517999, 0.0009785013155153702, 0.001796722035095069, 0.0026124289901111415, 0.008923392663121456, 0.012535180044764043, 0.10922279428376108, 0.14072121324761983, 0.18024829723566285, 0.20854313700614255, 0.3294821297464995], \"colorscale\": \"Viridis\", \"reversescale\": true}, \"name\": \"Random Forest Feature importance\", \"orientation\": \"h\"}], {\"title\": \"Barplot of Feature importances\", \"width\": 500, \"height\": 500, \"yaxis\": {\"showgrid\": false, \"showline\": false, \"showticklabels\": true}}, {\"showLink\": true, \"linkText\": \"Export to plot.ly\"})});</script>"
      ],
      "text/vnd.plotly.v1+html": [
       "<div id=\"d7e766bc-b37a-44c0-bc00-b5a7fa2646ab\" style=\"height: 500px; width: 500px;\" class=\"plotly-graph-div\"></div><script type=\"text/javascript\">require([\"plotly\"], function(Plotly) { window.PLOTLYENV=window.PLOTLYENV || {};window.PLOTLYENV.BASE_URL=\"https://plot.ly\";Plotly.newPlot(\"d7e766bc-b37a-44c0-bc00-b5a7fa2646ab\", [{\"type\": \"bar\", \"x\": [0.0002097268497297606, 0.0004038505187211837, 0.0004777523096136432, 0.0005650496452553586, 0.0006108453365544615, 0.0007537075710644296, 0.0009499432630163102, 0.0009653279377517999, 0.0009785013155153702, 0.001796722035095069, 0.0026124289901111415, 0.008923392663121456, 0.012535180044764043, 0.10922279428376108, 0.14072121324761983, 0.18024829723566285, 0.20854313700614255, 0.3294821297464995], \"y\": [\"dep_marketing\", \"dep_accounting\", \"dep_product_mng\", \"dep_hr\", \"dep_support\", \"dep_sales\", \"dep_technical\", \"dep_management\", \"dep_RandD\", \"promotion_last_5years\", \"sal_medium\", \"sal_low\", \"Work_accident\", \"last_evaluation\", \"average_montly_hours\", \"time_spend_company\", \"number_project\", \"satisfaction_level\"], \"marker\": {\"color\": [0.0002097268497297606, 0.0004038505187211837, 0.0004777523096136432, 0.0005650496452553586, 0.0006108453365544615, 0.0007537075710644296, 0.0009499432630163102, 0.0009653279377517999, 0.0009785013155153702, 0.001796722035095069, 0.0026124289901111415, 0.008923392663121456, 0.012535180044764043, 0.10922279428376108, 0.14072121324761983, 0.18024829723566285, 0.20854313700614255, 0.3294821297464995], \"colorscale\": \"Viridis\", \"reversescale\": true}, \"name\": \"Random Forest Feature importance\", \"orientation\": \"h\"}], {\"title\": \"Barplot of Feature importances\", \"width\": 500, \"height\": 500, \"yaxis\": {\"showgrid\": false, \"showline\": false, \"showticklabels\": true}}, {\"showLink\": true, \"linkText\": \"Export to plot.ly\"})});</script>"
      ]
     },
     "metadata": {},
     "output_type": "display_data"
    }
   ],
   "source": [
    "x, y = (list(x) for x in zip(*sorted(zip(rf.feature_importances_, features), reverse = False)))\n",
    "trace2 = go.Bar(x=x , y=y, marker=dict(color=x, colorscale = 'Viridis', reversescale = True), name='Random Forest Feature importance', orientation='h',)\n",
    "layout = dict(title='Barplot of Feature importances', width = 500, height = 500, yaxis=dict(showgrid=False, showline=False, showticklabels=True,))\n",
    "fig1 = go.Figure(data=[trace2])\n",
    "fig1['layout'].update(layout)\n",
    "py.iplot(fig1, filename='plots')"
   ]
  },
  {
   "cell_type": "markdown",
   "metadata": {},
   "source": [
    "***\n",
    "#### Feature Importance via Gradient Boosting"
   ]
  },
  {
   "cell_type": "code",
   "execution_count": 18,
   "metadata": {
    "collapsed": false
   },
   "outputs": [
    {
     "name": "stdout",
     "output_type": "stream",
     "text": [
      "----- Training Done -----\n"
     ]
    }
   ],
   "source": [
    "from sklearn.ensemble import GradientBoostingClassifier\n",
    "       \n",
    "gb = GradientBoostingClassifier(n_estimators=100, max_depth=4, min_samples_leaf=4, max_features=0.2, random_state=0)\n",
    "gb.fit(rf_data.drop(['left'],axis=1), rf_data.left)\n",
    "features = rf_data.drop(['left'],axis=1).columns.values\n",
    "print(\"----- Training Done -----\")"
   ]
  },
  {
   "cell_type": "code",
   "execution_count": 19,
   "metadata": {
    "collapsed": false
   },
   "outputs": [
    {
     "data": {
      "application/vnd.plotly.v1+json": {
       "data": [
        {
         "marker": {
          "color": [
           0.2805818104499252,
           0.15221659409855667,
           0.13852739174476492,
           0.1619934074861621,
           0.20390078076668539,
           0.018234812685000646,
           0.004381536333626861,
           0.0026364963291800225,
           0.0016700639067943961,
           0.0014041048282809401,
           0.0024153047556912167,
           0.0007340069750033096,
           0.0025474275244367,
           0.001800864214935431,
           0.0019508124528416228,
           0.0040568036981633825,
           0.013516079302262118,
           0.007431702447689232
          ],
          "colorscale": "Portland",
          "showscale": true,
          "size": 13,
          "sizemode": "diameter",
          "sizeref": 1
         },
         "mode": "markers",
         "text": [
          "satisfaction_level",
          "last_evaluation",
          "number_project",
          "average_montly_hours",
          "time_spend_company",
          "Work_accident",
          "promotion_last_5years",
          "dep_RandD",
          "dep_accounting",
          "dep_hr",
          "dep_management",
          "dep_marketing",
          "dep_product_mng",
          "dep_sales",
          "dep_support",
          "dep_technical",
          "sal_low",
          "sal_medium"
         ],
         "type": "scatter",
         "x": [
          "satisfaction_level",
          "last_evaluation",
          "number_project",
          "average_montly_hours",
          "time_spend_company",
          "Work_accident",
          "promotion_last_5years",
          "dep_RandD",
          "dep_accounting",
          "dep_hr",
          "dep_management",
          "dep_marketing",
          "dep_product_mng",
          "dep_sales",
          "dep_support",
          "dep_technical",
          "sal_low",
          "sal_medium"
         ],
         "y": [
          0.2805818104499252,
          0.15221659409855667,
          0.13852739174476492,
          0.1619934074861621,
          0.20390078076668539,
          0.018234812685000646,
          0.004381536333626861,
          0.0026364963291800225,
          0.0016700639067943961,
          0.0014041048282809401,
          0.0024153047556912167,
          0.0007340069750033096,
          0.0025474275244367,
          0.001800864214935431,
          0.0019508124528416228,
          0.0040568036981633825,
          0.013516079302262118,
          0.007431702447689232
         ]
        }
       ],
       "layout": {
        "autosize": true,
        "hovermode": "closest",
        "showlegend": false,
        "title": "Gradient Boosting Machine Feature Importance",
        "xaxis": {
         "showgrid": false,
         "showline": false,
         "ticklen": 5,
         "zeroline": false
        },
        "yaxis": {
         "gridwidth": 2,
         "showgrid": false,
         "ticklen": 5,
         "title": "Feature Importance",
         "zeroline": false
        }
       }
      },
      "text/html": [
       "<div id=\"3390a758-3a1f-4332-9a9b-3f6d18b51332\" style=\"height: 525px; width: 100%;\" class=\"plotly-graph-div\"></div><script type=\"text/javascript\">require([\"plotly\"], function(Plotly) { window.PLOTLYENV=window.PLOTLYENV || {};window.PLOTLYENV.BASE_URL=\"https://plot.ly\";Plotly.newPlot(\"3390a758-3a1f-4332-9a9b-3f6d18b51332\", [{\"type\": \"scatter\", \"y\": [0.2805818104499252, 0.15221659409855667, 0.13852739174476492, 0.1619934074861621, 0.20390078076668539, 0.018234812685000646, 0.004381536333626861, 0.0026364963291800225, 0.0016700639067943961, 0.0014041048282809401, 0.0024153047556912167, 0.0007340069750033096, 0.0025474275244367, 0.001800864214935431, 0.0019508124528416228, 0.0040568036981633825, 0.013516079302262118, 0.007431702447689232], \"x\": [\"satisfaction_level\", \"last_evaluation\", \"number_project\", \"average_montly_hours\", \"time_spend_company\", \"Work_accident\", \"promotion_last_5years\", \"dep_RandD\", \"dep_accounting\", \"dep_hr\", \"dep_management\", \"dep_marketing\", \"dep_product_mng\", \"dep_sales\", \"dep_support\", \"dep_technical\", \"sal_low\", \"sal_medium\"], \"mode\": \"markers\", \"marker\": {\"sizemode\": \"diameter\", \"sizeref\": 1, \"size\": 13, \"color\": [0.2805818104499252, 0.15221659409855667, 0.13852739174476492, 0.1619934074861621, 0.20390078076668539, 0.018234812685000646, 0.004381536333626861, 0.0026364963291800225, 0.0016700639067943961, 0.0014041048282809401, 0.0024153047556912167, 0.0007340069750033096, 0.0025474275244367, 0.001800864214935431, 0.0019508124528416228, 0.0040568036981633825, 0.013516079302262118, 0.007431702447689232], \"colorscale\": \"Portland\", \"showscale\": true}, \"text\": [\"satisfaction_level\", \"last_evaluation\", \"number_project\", \"average_montly_hours\", \"time_spend_company\", \"Work_accident\", \"promotion_last_5years\", \"dep_RandD\", \"dep_accounting\", \"dep_hr\", \"dep_management\", \"dep_marketing\", \"dep_product_mng\", \"dep_sales\", \"dep_support\", \"dep_technical\", \"sal_low\", \"sal_medium\"]}], {\"autosize\": true, \"title\": \"Gradient Boosting Machine Feature Importance\", \"hovermode\": \"closest\", \"xaxis\": {\"ticklen\": 5, \"showgrid\": false, \"zeroline\": false, \"showline\": false}, \"yaxis\": {\"title\": \"Feature Importance\", \"showgrid\": false, \"zeroline\": false, \"ticklen\": 5, \"gridwidth\": 2}, \"showlegend\": false}, {\"showLink\": true, \"linkText\": \"Export to plot.ly\"})});</script>"
      ],
      "text/vnd.plotly.v1+html": [
       "<div id=\"3390a758-3a1f-4332-9a9b-3f6d18b51332\" style=\"height: 525px; width: 100%;\" class=\"plotly-graph-div\"></div><script type=\"text/javascript\">require([\"plotly\"], function(Plotly) { window.PLOTLYENV=window.PLOTLYENV || {};window.PLOTLYENV.BASE_URL=\"https://plot.ly\";Plotly.newPlot(\"3390a758-3a1f-4332-9a9b-3f6d18b51332\", [{\"type\": \"scatter\", \"y\": [0.2805818104499252, 0.15221659409855667, 0.13852739174476492, 0.1619934074861621, 0.20390078076668539, 0.018234812685000646, 0.004381536333626861, 0.0026364963291800225, 0.0016700639067943961, 0.0014041048282809401, 0.0024153047556912167, 0.0007340069750033096, 0.0025474275244367, 0.001800864214935431, 0.0019508124528416228, 0.0040568036981633825, 0.013516079302262118, 0.007431702447689232], \"x\": [\"satisfaction_level\", \"last_evaluation\", \"number_project\", \"average_montly_hours\", \"time_spend_company\", \"Work_accident\", \"promotion_last_5years\", \"dep_RandD\", \"dep_accounting\", \"dep_hr\", \"dep_management\", \"dep_marketing\", \"dep_product_mng\", \"dep_sales\", \"dep_support\", \"dep_technical\", \"sal_low\", \"sal_medium\"], \"mode\": \"markers\", \"marker\": {\"sizemode\": \"diameter\", \"sizeref\": 1, \"size\": 13, \"color\": [0.2805818104499252, 0.15221659409855667, 0.13852739174476492, 0.1619934074861621, 0.20390078076668539, 0.018234812685000646, 0.004381536333626861, 0.0026364963291800225, 0.0016700639067943961, 0.0014041048282809401, 0.0024153047556912167, 0.0007340069750033096, 0.0025474275244367, 0.001800864214935431, 0.0019508124528416228, 0.0040568036981633825, 0.013516079302262118, 0.007431702447689232], \"colorscale\": \"Portland\", \"showscale\": true}, \"text\": [\"satisfaction_level\", \"last_evaluation\", \"number_project\", \"average_montly_hours\", \"time_spend_company\", \"Work_accident\", \"promotion_last_5years\", \"dep_RandD\", \"dep_accounting\", \"dep_hr\", \"dep_management\", \"dep_marketing\", \"dep_product_mng\", \"dep_sales\", \"dep_support\", \"dep_technical\", \"sal_low\", \"sal_medium\"]}], {\"autosize\": true, \"title\": \"Gradient Boosting Machine Feature Importance\", \"hovermode\": \"closest\", \"xaxis\": {\"ticklen\": 5, \"showgrid\": false, \"zeroline\": false, \"showline\": false}, \"yaxis\": {\"title\": \"Feature Importance\", \"showgrid\": false, \"zeroline\": false, \"ticklen\": 5, \"gridwidth\": 2}, \"showlegend\": false}, {\"showLink\": true, \"linkText\": \"Export to plot.ly\"})});</script>"
      ]
     },
     "metadata": {},
     "output_type": "display_data"
    }
   ],
   "source": [
    "# Scatter plot \n",
    "trace = go.Scatter(\n",
    "    y = gb.feature_importances_,\n",
    "    x = features,\n",
    "    mode='markers',\n",
    "    marker=dict(\n",
    "        sizemode = 'diameter',\n",
    "        sizeref = 1,\n",
    "        size = 13,\n",
    "        color = gb.feature_importances_,\n",
    "        colorscale='Portland',\n",
    "        showscale=True\n",
    "    ),\n",
    "    text = features\n",
    ")\n",
    "data = [trace]\n",
    "\n",
    "layout= go.Layout(\n",
    "    autosize= True,\n",
    "    title= 'Gradient Boosting Machine Feature Importance',\n",
    "    hovermode= 'closest',\n",
    "     xaxis= dict(\n",
    "         ticklen= 5,\n",
    "         showgrid=False,\n",
    "        zeroline=False,\n",
    "        showline=False\n",
    "     ),\n",
    "    yaxis=dict(\n",
    "        title= 'Feature Importance',\n",
    "        showgrid=False,\n",
    "        zeroline=False,\n",
    "        ticklen= 5,\n",
    "        gridwidth= 2\n",
    "    ),\n",
    "    showlegend= False\n",
    ")\n",
    "fig = go.Figure(data=data, layout=layout)\n",
    "py.iplot(fig,filename='scatter2010')"
   ]
  },
  {
   "cell_type": "code",
   "execution_count": 20,
   "metadata": {
    "collapsed": false
   },
   "outputs": [
    {
     "data": {
      "application/vnd.plotly.v1+json": {
       "data": [
        {
         "marker": {
          "color": [
           0.0007340069750033096,
           0.0014041048282809401,
           0.0016700639067943961,
           0.001800864214935431,
           0.0019508124528416228,
           0.0024153047556912167,
           0.0025474275244367,
           0.0026364963291800225,
           0.0040568036981633825,
           0.004381536333626861,
           0.007431702447689232,
           0.013516079302262118,
           0.018234812685000646,
           0.13852739174476492,
           0.15221659409855667,
           0.1619934074861621,
           0.20390078076668539,
           0.2805818104499252
          ],
          "colorscale": "Viridis",
          "reversescale": true
         },
         "name": "Random Forest Feature importance",
         "orientation": "h",
         "type": "bar",
         "x": [
          0.0007340069750033096,
          0.0014041048282809401,
          0.0016700639067943961,
          0.001800864214935431,
          0.0019508124528416228,
          0.0024153047556912167,
          0.0025474275244367,
          0.0026364963291800225,
          0.0040568036981633825,
          0.004381536333626861,
          0.007431702447689232,
          0.013516079302262118,
          0.018234812685000646,
          0.13852739174476492,
          0.15221659409855667,
          0.1619934074861621,
          0.20390078076668539,
          0.2805818104499252
         ],
         "y": [
          "dep_marketing",
          "dep_hr",
          "dep_accounting",
          "dep_sales",
          "dep_support",
          "dep_management",
          "dep_product_mng",
          "dep_RandD",
          "dep_technical",
          "promotion_last_5years",
          "sal_medium",
          "sal_low",
          "Work_accident",
          "number_project",
          "last_evaluation",
          "average_montly_hours",
          "time_spend_company",
          "satisfaction_level"
         ]
        }
       ],
       "layout": {
        "height": 500,
        "title": "Barplot of Feature importances",
        "width": 500,
        "yaxis": {
         "showgrid": false,
         "showline": false,
         "showticklabels": true
        }
       }
      },
      "text/html": [
       "<div id=\"ebfb43fb-f74f-4321-8f10-848ec788f083\" style=\"height: 500px; width: 500px;\" class=\"plotly-graph-div\"></div><script type=\"text/javascript\">require([\"plotly\"], function(Plotly) { window.PLOTLYENV=window.PLOTLYENV || {};window.PLOTLYENV.BASE_URL=\"https://plot.ly\";Plotly.newPlot(\"ebfb43fb-f74f-4321-8f10-848ec788f083\", [{\"type\": \"bar\", \"x\": [0.0007340069750033096, 0.0014041048282809401, 0.0016700639067943961, 0.001800864214935431, 0.0019508124528416228, 0.0024153047556912167, 0.0025474275244367, 0.0026364963291800225, 0.0040568036981633825, 0.004381536333626861, 0.007431702447689232, 0.013516079302262118, 0.018234812685000646, 0.13852739174476492, 0.15221659409855667, 0.1619934074861621, 0.20390078076668539, 0.2805818104499252], \"y\": [\"dep_marketing\", \"dep_hr\", \"dep_accounting\", \"dep_sales\", \"dep_support\", \"dep_management\", \"dep_product_mng\", \"dep_RandD\", \"dep_technical\", \"promotion_last_5years\", \"sal_medium\", \"sal_low\", \"Work_accident\", \"number_project\", \"last_evaluation\", \"average_montly_hours\", \"time_spend_company\", \"satisfaction_level\"], \"marker\": {\"color\": [0.0007340069750033096, 0.0014041048282809401, 0.0016700639067943961, 0.001800864214935431, 0.0019508124528416228, 0.0024153047556912167, 0.0025474275244367, 0.0026364963291800225, 0.0040568036981633825, 0.004381536333626861, 0.007431702447689232, 0.013516079302262118, 0.018234812685000646, 0.13852739174476492, 0.15221659409855667, 0.1619934074861621, 0.20390078076668539, 0.2805818104499252], \"colorscale\": \"Viridis\", \"reversescale\": true}, \"name\": \"Random Forest Feature importance\", \"orientation\": \"h\"}], {\"title\": \"Barplot of Feature importances\", \"width\": 500, \"height\": 500, \"yaxis\": {\"showgrid\": false, \"showline\": false, \"showticklabels\": true}}, {\"showLink\": true, \"linkText\": \"Export to plot.ly\"})});</script>"
      ],
      "text/vnd.plotly.v1+html": [
       "<div id=\"ebfb43fb-f74f-4321-8f10-848ec788f083\" style=\"height: 500px; width: 500px;\" class=\"plotly-graph-div\"></div><script type=\"text/javascript\">require([\"plotly\"], function(Plotly) { window.PLOTLYENV=window.PLOTLYENV || {};window.PLOTLYENV.BASE_URL=\"https://plot.ly\";Plotly.newPlot(\"ebfb43fb-f74f-4321-8f10-848ec788f083\", [{\"type\": \"bar\", \"x\": [0.0007340069750033096, 0.0014041048282809401, 0.0016700639067943961, 0.001800864214935431, 0.0019508124528416228, 0.0024153047556912167, 0.0025474275244367, 0.0026364963291800225, 0.0040568036981633825, 0.004381536333626861, 0.007431702447689232, 0.013516079302262118, 0.018234812685000646, 0.13852739174476492, 0.15221659409855667, 0.1619934074861621, 0.20390078076668539, 0.2805818104499252], \"y\": [\"dep_marketing\", \"dep_hr\", \"dep_accounting\", \"dep_sales\", \"dep_support\", \"dep_management\", \"dep_product_mng\", \"dep_RandD\", \"dep_technical\", \"promotion_last_5years\", \"sal_medium\", \"sal_low\", \"Work_accident\", \"number_project\", \"last_evaluation\", \"average_montly_hours\", \"time_spend_company\", \"satisfaction_level\"], \"marker\": {\"color\": [0.0007340069750033096, 0.0014041048282809401, 0.0016700639067943961, 0.001800864214935431, 0.0019508124528416228, 0.0024153047556912167, 0.0025474275244367, 0.0026364963291800225, 0.0040568036981633825, 0.004381536333626861, 0.007431702447689232, 0.013516079302262118, 0.018234812685000646, 0.13852739174476492, 0.15221659409855667, 0.1619934074861621, 0.20390078076668539, 0.2805818104499252], \"colorscale\": \"Viridis\", \"reversescale\": true}, \"name\": \"Random Forest Feature importance\", \"orientation\": \"h\"}], {\"title\": \"Barplot of Feature importances\", \"width\": 500, \"height\": 500, \"yaxis\": {\"showgrid\": false, \"showline\": false, \"showticklabels\": true}}, {\"showLink\": true, \"linkText\": \"Export to plot.ly\"})});</script>"
      ]
     },
     "metadata": {},
     "output_type": "display_data"
    }
   ],
   "source": [
    "x, y = (list(x) for x in zip(*sorted(zip(gb.feature_importances_, features), reverse = False)))\n",
    "trace2 = go.Bar(x=x , y=y, marker=dict(color=x, colorscale = 'Viridis', reversescale = True), name='Random Forest Feature importance', orientation='h',)\n",
    "layout = dict(title='Barplot of Feature importances', width = 500, height = 500, yaxis=dict( showgrid=False, showline=False, showticklabels=True,))\n",
    "fig1 = go.Figure(data=[trace2])\n",
    "fig1['layout'].update(layout)\n",
    "py.iplot(fig1, filename='plots')"
   ]
  },
  {
   "cell_type": "code",
   "execution_count": null,
   "metadata": {
    "collapsed": true
   },
   "outputs": [],
   "source": []
  }
 ],
 "metadata": {
  "kernelspec": {
   "display_name": "Python 3",
   "language": "python",
   "name": "python3"
  },
  "language_info": {
   "codemirror_mode": {
    "name": "ipython",
    "version": 3
   },
   "file_extension": ".py",
   "mimetype": "text/x-python",
   "name": "python",
   "nbconvert_exporter": "python",
   "pygments_lexer": "ipython3",
   "version": "3.6.2"
  }
 },
 "nbformat": 4,
 "nbformat_minor": 2
}
